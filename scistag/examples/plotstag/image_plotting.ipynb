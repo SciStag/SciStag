{
 "cells": [
  {
   "cell_type": "markdown",
   "metadata": {},
   "source": [
    "# Examples for how to plot images using PlotStag"
   ]
  },
  {
   "cell_type": "code",
   "execution_count": null,
   "metadata": {},
   "outputs": [],
   "source": [
    "%load_ext autoreload\n",
    "%autoreload 2\n",
    "import matplotlib.pyplot as plt\n",
    "import numpy as np\n",
    "from scistag.imagestag import Colors\n",
    "from scistag.common import get_test_image, TestDataNames\n",
    "from scistag.plotstag import Figure, Plot, GridSteppingMode\n",
    "from scistag.emojistag import render_emoji, EmojiDb\n",
    "\n",
    "stag_image = get_test_image(TestDataNames.STAG)\n",
    "Plot().add_image(stag_image).set_title(\"A stag\")"
   ]
  },
  {
   "cell_type": "code",
   "execution_count": null,
   "outputs": [],
   "source": [
    "data = np.array(stag_image)\n",
    "plt.title(\"A stag\")\n",
    "# plt.suptitle(\"Our topic\")\n",
    "plt.imshow(stag_image)"
   ],
   "metadata": {}
  },
  {
   "cell_type": "code",
   "execution_count": null,
   "metadata": {},
   "outputs": [],
   "source": [
    "render_emoji(\":deer:\", size=256).to_ipython(\"jpg\", background_color=Colors.BLACK)"
   ]
  },
  {
   "cell_type": "code",
   "execution_count": null,
   "metadata": {},
   "outputs": [],
   "source": [
    "from scistag.emojistag import EmojiDb, get_emoji_details\n",
    "import random\n",
    "emojis = random.choices(list(EmojiDb.find_emojis_by_name(\"*\")), k=14)\n",
    "emojis = [emoji.sequence for emoji in emojis]\n",
    "images = [render_emoji(emoji_seq, size=256) for emoji_seq in emojis]\n",
    "fig = Figure(cols=None, rows=4, count=len(emojis), stepping=GridSteppingMode.DOWN_RIGHT)\n",
    "for emoji_seq, image, plot in zip(emojis, images, fig):\n",
    "    if image is None:\n",
    "        continue\n",
    "    plot.add_image(image, size_ratio=1.0)\n",
    "fig.render().to_ipython(\"jpg\")"
   ]
  },
  {
   "cell_type": "code",
   "execution_count": null,
   "metadata": {},
   "outputs": [],
   "source": [
    "print(get_emoji_details(\":deer:\"))"
   ]
  },
  {
   "cell_type": "code",
   "execution_count": null,
   "outputs": [],
   "source": [],
   "metadata": {}
  }
 ],
 "metadata": {
  "kernelspec": {
   "display_name": "Python 3 (ipykernel)",
   "language": "python",
   "name": "python3"
  },
  "language_info": {
   "codemirror_mode": {
    "name": "ipython",
    "version": 3
   },
   "file_extension": ".py",
   "mimetype": "text/x-python",
   "name": "python",
   "nbconvert_exporter": "python",
   "pygments_lexer": "ipython3",
   "version": "3.9.14"
  }
 },
 "nbformat": 4,
 "nbformat_minor": 1
}